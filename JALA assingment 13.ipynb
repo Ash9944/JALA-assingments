{
 "cells": [
  {
   "cell_type": "code",
   "execution_count": 4,
   "id": "9627f078",
   "metadata": {},
   "outputs": [],
   "source": [
    "from multipledispatch import dispatch\n",
    "@dispatch(int,int)\n",
    "def product(first,second):\n",
    "    result = first*second\n",
    "    print(result);\n",
    "  \n",
    "@dispatch(int,int,int)\n",
    "def product(first,second,third):\n",
    "    result  = first * second * third\n",
    "    print(result);\n",
    "  \n",
    "\n",
    "  "
   ]
  },
  {
   "cell_type": "code",
   "execution_count": 5,
   "id": "098e62ac",
   "metadata": {},
   "outputs": [
    {
     "name": "stdout",
     "output_type": "stream",
     "text": [
      "506\n",
      "35190\n"
     ]
    }
   ],
   "source": [
    "product(23,22)\n",
    "product(23,34,45)"
   ]
  },
  {
   "cell_type": "code",
   "execution_count": 11,
   "id": "dc404dc7",
   "metadata": {},
   "outputs": [],
   "source": [
    "@dispatch(int,int)\n",
    "def add(first,second):\n",
    "    result = first+second\n",
    "    print (result)\n",
    "    \n",
    "@dispatch(str,str,int)\n",
    "def add(first,second,third):\n",
    "    result = first+\" \"+second\n",
    "    print (\"sir! your name is {} and your age is {}\".format(result,third))"
   ]
  },
  {
   "cell_type": "code",
   "execution_count": 12,
   "id": "703cf69c",
   "metadata": {},
   "outputs": [
    {
     "name": "stdout",
     "output_type": "stream",
     "text": [
      "66\n",
      "sir! your name is Ashwajit prasad and your age is 40\n"
     ]
    }
   ],
   "source": [
    "add(23,43)\n",
    "add(\"Ashwajit\",\"prasad\",40)"
   ]
  },
  {
   "cell_type": "code",
   "execution_count": 24,
   "id": "fbe6869c",
   "metadata": {},
   "outputs": [],
   "source": [
    "@dispatch(int,str)\n",
    "def sub(first,second):\n",
    "    result = \"hey your name is {} and your age is {}\".format(second,first)\n",
    "    print (result)\n",
    "@dispatch(str,int)\n",
    "def sub(first,second):\n",
    "    result = \"hey your name is {} and your age is {}\".format(first,second)\n",
    "    print (result)\n",
    "    "
   ]
  },
  {
   "cell_type": "code",
   "execution_count": 25,
   "id": "a8d4a9fa",
   "metadata": {},
   "outputs": [
    {
     "name": "stdout",
     "output_type": "stream",
     "text": [
      "hey your name is ashwajit and your age is 10\n",
      "hey your name is ashwajit and your age is 20\n"
     ]
    }
   ],
   "source": [
    "sub(10,\"ashwajit\")\n",
    "sub(\"ashwajit\",20)"
   ]
  },
  {
   "cell_type": "code",
   "execution_count": null,
   "id": "5d17a9d2",
   "metadata": {},
   "outputs": [],
   "source": []
  }
 ],
 "metadata": {
  "kernelspec": {
   "display_name": "Python 3",
   "language": "python",
   "name": "python3"
  },
  "language_info": {
   "codemirror_mode": {
    "name": "ipython",
    "version": 3
   },
   "file_extension": ".py",
   "mimetype": "text/x-python",
   "name": "python",
   "nbconvert_exporter": "python",
   "pygments_lexer": "ipython3",
   "version": "3.8.8"
  }
 },
 "nbformat": 4,
 "nbformat_minor": 5
}
