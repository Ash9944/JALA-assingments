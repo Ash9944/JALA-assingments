{
 "cells": [
  {
   "cell_type": "code",
   "execution_count": 102,
   "id": "519c7d23",
   "metadata": {},
   "outputs": [
    {
     "name": "stdout",
     "output_type": "stream",
     "text": [
      "261\n"
     ]
    }
   ],
   "source": [
    "def sumall(arr):\n",
    "    sum3 = 0\n",
    "    for i in arr:\n",
    "        sum3 = sum3 + i\n",
    "    print (sum3)\n",
    "    \n",
    "hek = [20,30,40,50,55,23,43]   \n",
    "sumall(hek)    "
   ]
  },
  {
   "cell_type": "code",
   "execution_count": 57,
   "id": "ca5ab4f5",
   "metadata": {},
   "outputs": [
    {
     "data": {
      "text/plain": [
       "37.285714285714285"
      ]
     },
     "execution_count": 57,
     "metadata": {},
     "output_type": "execute_result"
    }
   ],
   "source": [
    "def Avg(arr):\n",
    "    sum3 = 0\n",
    "    for i in arr:\n",
    "        sum3 = sum3 + i\n",
    "    avg = sum3/len(arr)\n",
    "    return avg\n",
    "Avg(hek)"
   ]
  },
  {
   "cell_type": "code",
   "execution_count": 58,
   "id": "6808f95d",
   "metadata": {},
   "outputs": [
    {
     "name": "stdout",
     "output_type": "stream",
     "text": [
      "Original list  [20, 30, 40, 50, 55, 23, 43]\n",
      "Indexes for element :  [4]\n"
     ]
    }
   ],
   "source": [
    "def find(arr,ind):\n",
    "    all_indexes = [] \n",
    "    for i in range(0, len(arr)):\n",
    "        if arr[i] == ind :\n",
    "            all_indexes.append(i)\n",
    "\n",
    "        \n",
    "    print(\"Original list \", arr)\n",
    "    print(\"Indexes for element : \", all_indexes)\n",
    "    \n",
    "    \n",
    "find(hek,55)    "
   ]
  },
  {
   "cell_type": "code",
   "execution_count": 59,
   "id": "64753706",
   "metadata": {},
   "outputs": [
    {
     "data": {
      "text/plain": [
       "True"
      ]
     },
     "execution_count": 59,
     "metadata": {},
     "output_type": "execute_result"
    }
   ],
   "source": [
    "def fin(arr,ind):\n",
    "    s= ind in arr\n",
    "    return s\n",
    "      \n",
    "        \n",
    "fin(hek,50)            \n"
   ]
  },
  {
   "cell_type": "code",
   "execution_count": 91,
   "id": "18f9be0f",
   "metadata": {},
   "outputs": [
    {
     "data": {
      "text/plain": [
       "[30, 40, 50, 55, 23, 43]"
      ]
     },
     "execution_count": 91,
     "metadata": {},
     "output_type": "execute_result"
    }
   ],
   "source": [
    "def rem(arr,ind):\n",
    "       for i in arr:\n",
    "            if i == ind:\n",
    "                arr.remove(i)\n",
    "\n",
    "            return arr    \n",
    "        \n",
    "rem(hek,20)                 "
   ]
  },
  {
   "cell_type": "code",
   "execution_count": 103,
   "id": "582bde24",
   "metadata": {},
   "outputs": [
    {
     "name": "stdout",
     "output_type": "stream",
     "text": [
      "[20, 30, 40, 50, 55, 23, 43] [20, 5, 40, 55, 23, 43]\n"
     ]
    }
   ],
   "source": [
    "num = []\n",
    "for i in hek:\n",
    "    num.append(i)\n",
    "num[1]= 5  \n",
    "num.remove(50)\n",
    "print(hek,num)"
   ]
  },
  {
   "cell_type": "code",
   "execution_count": 106,
   "id": "f6248237",
   "metadata": {},
   "outputs": [
    {
     "name": "stdout",
     "output_type": "stream",
     "text": [
      "enter the number to add23\n",
      "enter the index numnber2\n"
     ]
    },
    {
     "data": {
      "text/plain": [
       "[20, 30, 23, 50, 55, 23, 43]"
      ]
     },
     "execution_count": 106,
     "metadata": {},
     "output_type": "execute_result"
    }
   ],
   "source": [
    "num = int(input(\"enter the number to add\"))\n",
    "inde = int(input (\"enter the index numnber\"))\n",
    "def ins(arr,ind,val):\n",
    "    arr[ind] = val\n",
    "    return arr\n",
    "ins(hek,inde,num)    "
   ]
  },
  {
   "cell_type": "code",
   "execution_count": 107,
   "id": "802f7f47",
   "metadata": {},
   "outputs": [
    {
     "name": "stdout",
     "output_type": "stream",
     "text": [
      "The minimum element in the list is 20\n",
      "The maximum element in the list is 55\n"
     ]
    }
   ],
   "source": [
    "def MinAndMax(A):\n",
    "    max = min = A[0]\n",
    "    for i in range(1, len(A)):\n",
    "        if A[i] > max:\n",
    "            max = A[i] \n",
    "        elif A[i] < min:    \n",
    "            min = A[i]\n",
    " \n",
    "    print(\"The minimum element in the list is\", min)\n",
    "    print(\"The maximum element in the list is\", max)\n",
    "MinAndMax(hek)"
   ]
  },
  {
   "cell_type": "code",
   "execution_count": 109,
   "id": "361d3b08",
   "metadata": {},
   "outputs": [
    {
     "name": "stdout",
     "output_type": "stream",
     "text": [
      "[20, 30, 23, 50, 55, 23, 43]\n"
     ]
    },
    {
     "data": {
      "text/plain": [
       "[43, 23, 55, 50, 23, 30, 20]"
      ]
     },
     "execution_count": 109,
     "metadata": {},
     "output_type": "execute_result"
    }
   ],
   "source": [
    "def rev(re):\n",
    "    s = re[::-1]\n",
    "    return s\n",
    "\n",
    "print(hek)\n",
    "rev(hek)"
   ]
  },
  {
   "cell_type": "code",
   "execution_count": 116,
   "id": "f290e856",
   "metadata": {},
   "outputs": [
    {
     "data": {
      "text/plain": [
       "[2, 3, 4, 5]"
      ]
     },
     "execution_count": 116,
     "metadata": {},
     "output_type": "execute_result"
    }
   ],
   "source": [
    "l=[1,2,3,4,5,2,3,4,7,9,5]\n",
    "def dup(arr):\n",
    "    l1=[]\n",
    "    l2=[]\n",
    "    for i in l:\n",
    "        if i not in l1:\n",
    "            l1.append(i)\n",
    "        else:\n",
    "            l2.append(i)\n",
    "    return l2\n",
    "\n",
    "dup(l)"
   ]
  },
  {
   "cell_type": "code",
   "execution_count": 114,
   "id": "cedd7096",
   "metadata": {},
   "outputs": [
    {
     "data": {
      "text/plain": [
       "[23, 34, 33]"
      ]
     },
     "execution_count": 114,
     "metadata": {},
     "output_type": "execute_result"
    }
   ],
   "source": [
    "list1=[23,34,11,33,78,90]\n",
    "list2=[43,67,12,23,34,33]\n",
    "new_list=[]\n",
    "for i in list1:\n",
    "    for j in list2:\n",
    "        if i == j:\n",
    "            new_list.append(i)\n",
    "            \n",
    "            \n",
    "            \n",
    "new_list            "
   ]
  },
  {
   "cell_type": "code",
   "execution_count": 130,
   "id": "0dd7e665",
   "metadata": {},
   "outputs": [
    {
     "name": "stdout",
     "output_type": "stream",
     "text": [
      "[11, 2, 32, 44, 7, 9, 5]\n"
     ]
    }
   ],
   "source": [
    "l=[11,2,32,44,5,2,32,44,7,9,5]\n",
    "l1=[]\n",
    "l2=[]\n",
    "for i in l:\n",
    "    if i not in l1:\n",
    "        l1.append(i)\n",
    "    else:\n",
    "        l2.append(i)\n",
    "       \n",
    "\n",
    "for i in l2:\n",
    "    l.remove(i)\n",
    "    \n",
    "print(l)    "
   ]
  },
  {
   "cell_type": "code",
   "execution_count": 131,
   "id": "244f66fe",
   "metadata": {},
   "outputs": [
    {
     "name": "stdout",
     "output_type": "stream",
     "text": [
      "Second highest number is :  32\n"
     ]
    }
   ],
   "source": [
    "mx=l[0]\n",
    "secondmax=l[1]\n",
    "n =len(l)\n",
    "for i in range(2,n):\n",
    "    if l[i]>mx:\n",
    "        secondmax=mx\n",
    "        mx=l[i]\n",
    "    elif l[i]>secondmax and mx != l[i]:\n",
    "        secondmax=l[i]\n",
    " \n",
    "print(\"Second highest number is : \",str(secondmax))"
   ]
  },
  {
   "cell_type": "code",
   "execution_count": 136,
   "id": "cf75fc1d",
   "metadata": {},
   "outputs": [
    {
     "name": "stdout",
     "output_type": "stream",
     "text": [
      "the number of odd numbers are  [11, 7, 9, 5] 4\n",
      "the number of even numbers are  [2, 32, 44] 3\n"
     ]
    }
   ],
   "source": [
    "def oddev(arr):\n",
    "    odd=[]\n",
    "    eve=[]\n",
    "    for i in arr:\n",
    "        if i%2 == 0:\n",
    "            eve.append(i)\n",
    "        else:\n",
    "            odd.append(i)\n",
    "    print(\"the number of odd numbers are \",odd,len(odd))\n",
    "    print(\"the number of even numbers are \",eve,len(eve))   \n",
    "oddev(l)    "
   ]
  },
  {
   "cell_type": "code",
   "execution_count": 138,
   "id": "43f44b3a",
   "metadata": {},
   "outputs": [
    {
     "name": "stdout",
     "output_type": "stream",
     "text": [
      "The highest value is 44 the lowest value is 2 the differce between them is 42\n"
     ]
    }
   ],
   "source": [
    "def diff(A):\n",
    "    ma = mi = A[0]\n",
    "    for i in range(1, len(A)):\n",
    "        if A[i] > ma:\n",
    "            ma = A[i] \n",
    "        elif A[i] < mi:    \n",
    "            mi = A[i]\n",
    "    diff = ma - mi\n",
    "    print(\"The highest value is {} the lowest value is {} the differce between them is {}\".format(ma,mi,diff))\n",
    "diff(l)\n",
    "            "
   ]
  },
  {
   "cell_type": "code",
   "execution_count": 190,
   "id": "ddf90fc3",
   "metadata": {},
   "outputs": [
    {
     "name": "stdout",
     "output_type": "stream",
     "text": [
      "the elements are present\n",
      "the elements are present\n"
     ]
    }
   ],
   "source": [
    "def find(arr,v1,v2):\n",
    "    \n",
    "    for x in arr:\n",
    "        if x == v1 or x == v2 :\n",
    "            print(\"the elements are present\")\n",
    "         \n",
    "        \n",
    "find(l,44,7)   "
   ]
  },
  {
   "cell_type": "code",
   "execution_count": 192,
   "id": "fb797b6d",
   "metadata": {},
   "outputs": [
    {
     "name": "stdout",
     "output_type": "stream",
     "text": [
      "[11, 2, 32, 44, 5, 7, 9]\n"
     ]
    }
   ],
   "source": [
    "l=[11,2,32,44,5,2,32,44,7,9,5]\n",
    "l1=[]\n",
    "l2=[]\n",
    "for i in l:\n",
    "    if i not in l1:\n",
    "        l1.append(i)\n",
    "    else:\n",
    "        l2.append(i)\n",
    "       \n",
    "print(l1)"
   ]
  },
  {
   "cell_type": "code",
   "execution_count": null,
   "id": "5d727b2b",
   "metadata": {},
   "outputs": [],
   "source": []
  }
 ],
 "metadata": {
  "kernelspec": {
   "display_name": "Python 3",
   "language": "python",
   "name": "python3"
  },
  "language_info": {
   "codemirror_mode": {
    "name": "ipython",
    "version": 3
   },
   "file_extension": ".py",
   "mimetype": "text/x-python",
   "name": "python",
   "nbconvert_exporter": "python",
   "pygments_lexer": "ipython3",
   "version": "3.8.8"
  }
 },
 "nbformat": 4,
 "nbformat_minor": 5
}
