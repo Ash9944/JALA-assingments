{
 "cells": [
  {
   "cell_type": "code",
   "execution_count": 12,
   "id": "d68b0c1f",
   "metadata": {},
   "outputs": [],
   "source": [
    "class Welcome():\n",
    "    \n",
    "        def __init__(self, name):\n",
    "            self.name = name\n",
    "        def intro(self):\n",
    "            print('Hey {} welcome'.format(self.name))\n",
    "        def intro1(self):\n",
    "            print('Hey {} Good morning !'.format(self.name))\n",
    "        def say_hi(self):\n",
    "            print(\"Hi, I am \" + self.name)\n",
    "class motiv( Welcome):\n",
    "    def say_hi(self):\n",
    "        print(\"Everything will be okay! \") \n",
    "        print(self.name +\" \"+ \" take care of yourself!\")\n",
    "    def hello(self):\n",
    "        print(\"How are you {} ?\".format(self.name))\n",
    "        \n",
    "    def motiv(self):\n",
    "        print(\"How's everything going {} ?\".format(self.name))\n",
    "class C(motiv):\n",
    "    def say_hi(self):\n",
    "        print(\"{} ! Time and Tide waits for none ! \".format(self.name)) \n",
    "    def quotes(self):\n",
    "        print(\"Every moment is a fresh beginning. {}!\".format(self.name)) \n",
    "    def quotes1(self):\n",
    "        print(\"One day the people that don’t even believe in you will tell everyone how they met you. {}!\".format(self.name)) \n",
    "class D(C):\n",
    "    def main():\n",
    "        x = Welcome(\"Ashwajit\")\n",
    "        y = motiv(\"Ash\")\n",
    "        z = C(\"Aswa\")\n",
    "        if __name__ == \"__main__\":\n",
    "            main()     \n",
    "\n",
    "        \n",
    "            \n"
   ]
  },
  {
   "cell_type": "code",
   "execution_count": 31,
   "id": "52404162",
   "metadata": {},
   "outputs": [
    {
     "name": "stdout",
     "output_type": "stream",
     "text": [
      "Hi, I am Ashwajit\n",
      "Hey Ashwajit welcome\n",
      "Hi, I am Ashwajit\n",
      "None\n"
     ]
    }
   ],
   "source": [
    "x.say_hi()\n",
    "x.intro()\n",
    "x.say_hi()"
   ]
  },
  {
   "cell_type": "code",
   "execution_count": 34,
   "id": "0508e88d",
   "metadata": {},
   "outputs": [
    {
     "name": "stdout",
     "output_type": "stream",
     "text": [
      "Everything will be okay! \n",
      "Ash  take care of yourself!\n",
      "How's everything going Ash ?\n",
      "How are you Ash ?\n"
     ]
    }
   ],
   "source": [
    "y.say_hi()\n",
    "y.motiv()\n",
    "y.hello()"
   ]
  },
  {
   "cell_type": "code",
   "execution_count": 33,
   "id": "82db6f64",
   "metadata": {},
   "outputs": [
    {
     "name": "stdout",
     "output_type": "stream",
     "text": [
      "Aswa ! Time and Tide waits for none ! \n",
      "Every moment is a fresh beginning. Aswa!\n",
      "One day the people that don’t even believe in you will tell everyone how they met you. Aswa!\n"
     ]
    }
   ],
   "source": [
    "z.say_hi()\n",
    "z.quotes()\n",
    "z.quotes1()"
   ]
  },
  {
   "cell_type": "code",
   "execution_count": 32,
   "id": "58827d4f",
   "metadata": {},
   "outputs": [
    {
     "name": "stdout",
     "output_type": "stream",
     "text": [
      "Hi, I am Ashwajit\n",
      "Hi, I am Ash\n",
      "Hi, I am Aswa\n"
     ]
    }
   ],
   "source": [
    "x.say_hi()\n",
    "Welcome.say_hi(y)\n",
    "Welcome.say_hi(z)"
   ]
  },
  {
   "cell_type": "code",
   "execution_count": null,
   "id": "6f9d025a",
   "metadata": {},
   "outputs": [],
   "source": []
  },
  {
   "cell_type": "code",
   "execution_count": null,
   "id": "4caaf08a",
   "metadata": {},
   "outputs": [],
   "source": []
  },
  {
   "cell_type": "code",
   "execution_count": null,
   "id": "166a90d2",
   "metadata": {},
   "outputs": [],
   "source": []
  }
 ],
 "metadata": {
  "kernelspec": {
   "display_name": "Python 3",
   "language": "python",
   "name": "python3"
  },
  "language_info": {
   "codemirror_mode": {
    "name": "ipython",
    "version": 3
   },
   "file_extension": ".py",
   "mimetype": "text/x-python",
   "name": "python",
   "nbconvert_exporter": "python",
   "pygments_lexer": "ipython3",
   "version": "3.8.8"
  }
 },
 "nbformat": 4,
 "nbformat_minor": 5
}
