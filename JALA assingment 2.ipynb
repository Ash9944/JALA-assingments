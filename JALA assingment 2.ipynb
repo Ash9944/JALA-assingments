{
 "cells": [
  {
   "cell_type": "code",
   "execution_count": 37,
   "id": "4c0b42ce",
   "metadata": {},
   "outputs": [
    {
     "name": "stdout",
     "output_type": "stream",
     "text": [
      "the sum is 15 ,the product is 50,the divisor is 2.0, the diffrence is 5\n"
     ]
    }
   ],
   "source": [
    "def calc(s,a):\n",
    "    add = s+a\n",
    "    mul = s*a\n",
    "    div = s/a\n",
    "    sub = s-a\n",
    "    print(\"the sum is {} ,the product is {},the divisor is {}, the diffrence is {}\".format(add,mul,div,sub))\n",
    "calc(10,5)\n",
    "    "
   ]
  },
  {
   "cell_type": "code",
   "execution_count": 10,
   "id": "1b000942",
   "metadata": {},
   "outputs": [
    {
     "name": "stdout",
     "output_type": "stream",
     "text": [
      "3\n",
      "2\n"
     ]
    }
   ],
   "source": [
    "#increment\n",
    "a = 2\n",
    "a+= 1\n",
    "print(a)\n",
    "#decrement\n",
    "b = 3\n",
    "b-= 1\n",
    "print (b)"
   ]
  },
  {
   "cell_type": "code",
   "execution_count": 24,
   "id": "f92c2a91",
   "metadata": {},
   "outputs": [
    {
     "name": "stdout",
     "output_type": "stream",
     "text": [
      "False\n",
      "True\n",
      "True\n",
      "False\n",
      "True\n"
     ]
    }
   ],
   "source": [
    "a = 2>=3\n",
    "print(a)\n",
    "b = 2==2\n",
    "print(b)\n",
    "c = 3<=3\n",
    "print(c)\n",
    "d = 2>3\n",
    "print(d)\n",
    "e = 2<3\n",
    "print(e)"
   ]
  },
  {
   "cell_type": "code",
   "execution_count": 35,
   "id": "7fb2aecb",
   "metadata": {},
   "outputs": [
    {
     "name": "stdout",
     "output_type": "stream",
     "text": [
      "bigger one 20\n",
      "lowest one 10\n",
      "bigger one 236\n",
      "lowest one 233\n"
     ]
    }
   ],
   "source": [
    "def diff(a,b):\n",
    "    if  a>b:\n",
    "        print (\"bigger one {}\".format(a))\n",
    "        print (\"lowest one {}\".format(b))\n",
    "    else:\n",
    "        print (\"bigger one {}\".format(b))\n",
    "        print (\"lowest one {}\".format(a))\n",
    "        \n",
    "        \n",
    " \n",
    "diff(10,20)\n",
    "diff(233,236)\n",
    "        "
   ]
  },
  {
   "cell_type": "code",
   "execution_count": null,
   "id": "bcb36d69",
   "metadata": {},
   "outputs": [],
   "source": []
  },
  {
   "cell_type": "code",
   "execution_count": null,
   "id": "b6216053",
   "metadata": {},
   "outputs": [],
   "source": []
  }
 ],
 "metadata": {
  "kernelspec": {
   "display_name": "Python 3",
   "language": "python",
   "name": "python3"
  },
  "language_info": {
   "codemirror_mode": {
    "name": "ipython",
    "version": 3
   },
   "file_extension": ".py",
   "mimetype": "text/x-python",
   "name": "python",
   "nbconvert_exporter": "python",
   "pygments_lexer": "ipython3",
   "version": "3.8.8"
  }
 },
 "nbformat": 4,
 "nbformat_minor": 5
}
