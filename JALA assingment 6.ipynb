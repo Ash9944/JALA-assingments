{
 "cells": [
  {
   "cell_type": "code",
   "execution_count": 4,
   "id": "32c33b45",
   "metadata": {},
   "outputs": [
    {
     "name": "stdout",
     "output_type": "stream",
     "text": [
      "Hello\n",
      "Hello\n",
      "Hello\n"
     ]
    }
   ],
   "source": [
    "my_string = 'Hello'\n",
    "print(my_string)\n",
    "\n",
    "my_string = \"Hello\"\n",
    "print(my_string)\n",
    "\n",
    "my_string = '''Hello'''\n",
    "print(my_string)"
   ]
  },
  {
   "cell_type": "code",
   "execution_count": 11,
   "id": "4c3bb484",
   "metadata": {},
   "outputs": [
    {
     "name": "stdout",
     "output_type": "stream",
     "text": [
      "first nameAshwajit\n",
      "Last namePrasad\n",
      "Welcome ! Ashwajit Prasad\n"
     ]
    }
   ],
   "source": [
    "first_name = input(\"first name\")\n",
    "last_name = input(\"Last name\")\n",
    "print(\"Welcome !\",first_name+' '+last_name)"
   ]
  },
  {
   "cell_type": "code",
   "execution_count": 12,
   "id": "2e75e873",
   "metadata": {},
   "outputs": [
    {
     "name": "stdout",
     "output_type": "stream",
     "text": [
      "8\n"
     ]
    }
   ],
   "source": [
    "print(len(first_name))"
   ]
  },
  {
   "cell_type": "code",
   "execution_count": 13,
   "id": "474f1265",
   "metadata": {},
   "outputs": [
    {
     "name": "stdout",
     "output_type": "stream",
     "text": [
      "Ashwajit\n",
      "ajit\n",
      "Ashwajit\n",
      "hwaji\n",
      "aji\n",
      "hwaji\n"
     ]
    }
   ],
   "source": [
    "print(first_name[:]) \n",
    "print(first_name[4 : ]) \n",
    "print(first_name[ : 8]) \n",
    "print(first_name[2 : 7])\n",
    "print(first_name[4 : -1])  \n",
    "print(first_name[-6 : -1]) "
   ]
  },
  {
   "cell_type": "code",
   "execution_count": 14,
   "id": "ded591b0",
   "metadata": {},
   "outputs": [
    {
     "name": "stdout",
     "output_type": "stream",
     "text": [
      "w\n"
     ]
    }
   ],
   "source": [
    "print(first_name[3])"
   ]
  },
  {
   "cell_type": "code",
   "execution_count": 18,
   "id": "3d776007",
   "metadata": {},
   "outputs": [
    {
     "name": "stdout",
     "output_type": "stream",
     "text": [
      "Phone number found: 415-555-4242\n"
     ]
    }
   ],
   "source": [
    "import re\n",
    "phoneNumRegex = re.compile(r'\\d\\d\\d-\\d\\d\\d-\\d\\d\\d\\d')\n",
    "mo = phoneNumRegex.match('415-555-4242 hey this the phone number')\n",
    "print('Phone number found: ' + mo.group())"
   ]
  },
  {
   "cell_type": "code",
   "execution_count": 19,
   "id": "931f5753",
   "metadata": {},
   "outputs": [
    {
     "name": "stdout",
     "output_type": "stream",
     "text": [
      "True\n",
      "False\n",
      "False\n",
      "False\n"
     ]
    }
   ],
   "source": [
    "print(first_name == first_name)\n",
    "print(first_name < first_name)\n",
    "print(first_name > first_name)\n",
    "print(first_name != first_name)"
   ]
  },
  {
   "cell_type": "code",
   "execution_count": 31,
   "id": "78225e78",
   "metadata": {},
   "outputs": [
    {
     "name": "stdout",
     "output_type": "stream",
     "text": [
      "True\n",
      "True\n"
     ]
    },
    {
     "data": {
      "text/plain": [
       "-1"
      ]
     },
     "execution_count": 31,
     "metadata": {},
     "output_type": "execute_result"
    }
   ],
   "source": [
    "print(first_name.startswith(\"As\"))\n",
    "print(first_name.endswith(\"t\"))\n",
    "def compareTo(st1,st2):\n",
    "    if st1 == st2:\n",
    "        return 0\n",
    "    elif st1 > st2:\n",
    "        return 1\n",
    "    elif st1 < st2:\n",
    "        return -1\n",
    "compareTo(first_name,last_name)   "
   ]
  },
  {
   "cell_type": "code",
   "execution_count": 30,
   "id": "463bdfd0",
   "metadata": {},
   "outputs": [
    {
     "data": {
      "text/plain": [
       "0"
      ]
     },
     "execution_count": 30,
     "metadata": {},
     "output_type": "execute_result"
    }
   ],
   "source": [
    "compareTo(first_name,first_name)"
   ]
  },
  {
   "cell_type": "code",
   "execution_count": 38,
   "id": "206ac2d3",
   "metadata": {},
   "outputs": [
    {
     "name": "stdout",
     "output_type": "stream",
     "text": [
      "  ashwajit  \n",
      "String after trimming extra leading and trailing spaces:\n",
      "ashwajit\n"
     ]
    }
   ],
   "source": [
    "s1 = '  ashwajit  '\n",
    "res = s1.strip()\n",
    "print(s1)\n",
    "print(\"String after trimming extra leading and trailing spaces:\")\n",
    "print(res)"
   ]
  },
  {
   "cell_type": "code",
   "execution_count": 42,
   "id": "d6188e1f",
   "metadata": {},
   "outputs": [
    {
     "name": "stdout",
     "output_type": "stream",
     "text": [
      "Ashwajit\n",
      "  ashwajih  \n"
     ]
    }
   ],
   "source": [
    "print(s1.replace('  ashwajit  ', 'Ashwajit'))\n",
    "print(s1.replace(\"t\", \"h\"))\n"
   ]
  },
  {
   "cell_type": "code",
   "execution_count": 43,
   "id": "a7f9ba34",
   "metadata": {},
   "outputs": [
    {
     "name": "stdout",
     "output_type": "stream",
     "text": [
      "['welcome', 'to', 'the', 'jungle']\n"
     ]
    }
   ],
   "source": [
    "txt = \"welcome to the jungle\"\n",
    "x = txt.split()\n",
    "print(x)\n"
   ]
  },
  {
   "cell_type": "code",
   "execution_count": 46,
   "id": "5682f9fa",
   "metadata": {},
   "outputs": [
    {
     "name": "stdout",
     "output_type": "stream",
     "text": [
      "<class 'int'> 50\n",
      "<class 'str'> 50\n"
     ]
    }
   ],
   "source": [
    "num = 50\n",
    "num2 = str(num)\n",
    "print(type(num),num)\n",
    "print(type(num2),num2)"
   ]
  },
  {
   "cell_type": "code",
   "execution_count": 50,
   "id": "085f9bf5",
   "metadata": {},
   "outputs": [
    {
     "name": "stdout",
     "output_type": "stream",
     "text": [
      "Ashwajit\n",
      "ASHWAJIT ashwajit\n"
     ]
    }
   ],
   "source": [
    "print(first_name)\n",
    "s2=first_name.upper()\n",
    "s3=s2.lower()\n",
    "print(s2,s3)\n"
   ]
  },
  {
   "cell_type": "code",
   "execution_count": null,
   "id": "8dc001d6",
   "metadata": {},
   "outputs": [],
   "source": []
  }
 ],
 "metadata": {
  "kernelspec": {
   "display_name": "Python 3",
   "language": "python",
   "name": "python3"
  },
  "language_info": {
   "codemirror_mode": {
    "name": "ipython",
    "version": 3
   },
   "file_extension": ".py",
   "mimetype": "text/x-python",
   "name": "python",
   "nbconvert_exporter": "python",
   "pygments_lexer": "ipython3",
   "version": "3.8.8"
  }
 },
 "nbformat": 4,
 "nbformat_minor": 5
}
