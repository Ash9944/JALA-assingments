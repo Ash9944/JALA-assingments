{
 "cells": [
  {
   "cell_type": "code",
   "execution_count": 1,
   "id": "d488b852",
   "metadata": {},
   "outputs": [
    {
     "name": "stdout",
     "output_type": "stream",
     "text": [
      "Bright IT career\n",
      "Bright IT career\n",
      "Bright IT career\n",
      "Bright IT career\n",
      "Bright IT career\n",
      "Bright IT career\n",
      "Bright IT career\n",
      "Bright IT career\n",
      "Bright IT career\n",
      "Bright IT career\n"
     ]
    }
   ],
   "source": [
    "for i in range (10):\n",
    "    print(\"Bright IT career\")"
   ]
  },
  {
   "cell_type": "code",
   "execution_count": 6,
   "id": "a3c1333c",
   "metadata": {},
   "outputs": [
    {
     "name": "stdout",
     "output_type": "stream",
     "text": [
      "1\n",
      "2\n",
      "3\n",
      "4\n",
      "5\n",
      "6\n",
      "7\n",
      "8\n",
      "9\n",
      "10\n",
      "11\n",
      "12\n",
      "13\n",
      "14\n",
      "15\n",
      "16\n",
      "17\n",
      "18\n",
      "19\n",
      "20\n"
     ]
    }
   ],
   "source": [
    "i = 1\n",
    "while(i<=20):\n",
    "    print(i)\n",
    "    i += 1"
   ]
  },
  {
   "cell_type": "code",
   "execution_count": 16,
   "id": "910e3723",
   "metadata": {},
   "outputs": [
    {
     "name": "stdout",
     "output_type": "stream",
     "text": [
      "not equal\n",
      "equal\n"
     ]
    }
   ],
   "source": [
    "def equ(s,b):\n",
    "    if s == b:\n",
    "        print(\"equal\")\n",
    "    if s != b:\n",
    "        print('not equal')\n",
    "equ(30,20) \n",
    "equ(30,30)"
   ]
  },
  {
   "cell_type": "code",
   "execution_count": 25,
   "id": "5d351d55",
   "metadata": {},
   "outputs": [
    {
     "name": "stdout",
     "output_type": "stream",
     "text": [
      "odd numbers are : 3\n",
      "even numbers are : 4\n",
      "odd numbers are : 5\n",
      "even numbers are : 6\n",
      "odd numbers are : 7\n",
      "even numbers are : 8\n",
      "odd numbers are : 9\n",
      "even numbers are : 10\n",
      "odd numbers are : 11\n",
      "even numbers are : 12\n",
      "odd numbers are : 13\n",
      "even numbers are : 14\n",
      "odd numbers are : 15\n",
      "even numbers are : 16\n",
      "odd numbers are : 17\n",
      "even numbers are : 18\n",
      "odd numbers are : 19\n",
      "even numbers are : 20\n"
     ]
    }
   ],
   "source": [
    "def odd(s):\n",
    "    for i in range (3,s+1):\n",
    "        if i%2 == 0:\n",
    "            print(\"even numbers are : {}\".format(i))\n",
    "        else:\n",
    "            print(\"odd numbers are : {}\".format(i))\n",
    "            \n",
    "odd(20)            "
   ]
  },
  {
   "cell_type": "code",
   "execution_count": 38,
   "id": "d06b0df2",
   "metadata": {},
   "outputs": [
    {
     "name": "stdout",
     "output_type": "stream",
     "text": [
      "('The largest number is', 54)\n",
      "('The largest number is', 45)\n"
     ]
    }
   ],
   "source": [
    "def find(num1,num2,num3):\n",
    "    if (num1 >= num2) and (num1 >= num3):\n",
    "         largest = num1\n",
    "    elif (num2 >= num1) and (num2 >= num3):\n",
    "         largest = num2\n",
    "    else:\n",
    "         largest = num3\n",
    "\n",
    "    return (\"The largest number is\", largest)\n",
    "print(find(20,34,54))\n",
    "print(find(45,10,31))"
   ]
  },
  {
   "cell_type": "code",
   "execution_count": 41,
   "id": "edd9f80b",
   "metadata": {},
   "outputs": [
    {
     "name": "stdout",
     "output_type": "stream",
     "text": [
      "10\n",
      "12\n",
      "14\n",
      "16\n",
      "18\n",
      "20\n"
     ]
    }
   ],
   "source": [
    "i = 10\n",
    "while(i<=20):\n",
    "    if i%2 == 0:\n",
    "        print(i)\n",
    "    i += 1"
   ]
  },
  {
   "cell_type": "code",
   "execution_count": 42,
   "id": "05553637",
   "metadata": {},
   "outputs": [
    {
     "name": "stdout",
     "output_type": "stream",
     "text": [
      "1\n",
      "2\n",
      "3\n",
      "4\n",
      "5\n",
      "6\n",
      "7\n",
      "8\n",
      "9\n",
      "10\n"
     ]
    }
   ],
   "source": [
    "count = 1\n",
    "\n",
    "while True:\n",
    "    print(count)\n",
    "    count += 1\n",
    "    if count>10:\n",
    "        break"
   ]
  },
  {
   "cell_type": "code",
   "execution_count": 73,
   "id": "12756c62",
   "metadata": {},
   "outputs": [
    {
     "name": "stdout",
     "output_type": "stream",
     "text": [
      "please enter a nuumber153\n",
      "armstrong Number\n"
     ]
    }
   ],
   "source": [
    "num = str(input(\"please enter a nuumber\"))\n",
    "add = []\n",
    "for i in num:\n",
    "    i=int(i)\n",
    "    db=i*i*i\n",
    "    add.append(db)\n",
    "sum3 = 0    \n",
    "for j in range(len(add)):\n",
    "    sum3 = sum3 +add[j]\n",
    "if sum3 == int(num):\n",
    "    print('armstrong Number')\n",
    "else:\n",
    "    print(\"No,its not an armstrong number\")"
   ]
  },
  {
   "cell_type": "code",
   "execution_count": 82,
   "id": "9608c871",
   "metadata": {},
   "outputs": [
    {
     "name": "stdout",
     "output_type": "stream",
     "text": [
      "Enter the number :7\n",
      "the number 7 is Prime\n"
     ]
    }
   ],
   "source": [
    "num = int(input(\"Enter the number :\"))\n",
    "if num == 1 or num == 0:\n",
    "    print(\"the number {} is Invalid pls check\".format(num))\n",
    "elif num == 2:\n",
    "     print(\"since an even number is divisible by {} , which makes it composite.\".format(num))\n",
    "    \n",
    "elif num % 2 != 0:\n",
    "    print(\"the number {} is Prime\".format(num))\n",
    "else:\n",
    "    print(\"the number {} is even\".format(num))\n",
    "    "
   ]
  },
  {
   "cell_type": "code",
   "execution_count": 130,
   "id": "c863ec5d",
   "metadata": {},
   "outputs": [
    {
     "name": "stdout",
     "output_type": "stream",
     "text": [
      "Enter the sentence :Do geese see God\n",
      "it is palindrome\n"
     ]
    }
   ],
   "source": [
    "palin = input(\"Enter the sentence :\")\n",
    "word = []\n",
    "clean =[]\n",
    "for i in palin:\n",
    "    word.append(i)\n",
    "for j in word:\n",
    "    if j == \" \":\n",
    "        word.remove(j)\n",
    "    elif j == \".\":\n",
    "        word.remove(j)\n",
    "for x in range(len(word)):        \n",
    "    s=word[x].lower()\n",
    "    clean.append(s)\n",
    "for y in clean:\n",
    "    if y == \" \":\n",
    "        clean.remove(y)\n",
    "if clean == clean[::-1]:\n",
    "    print (\"it is palindrome\")\n",
    "else :\n",
    "    print(\"no.it is not palindrome\")\n"
   ]
  },
  {
   "cell_type": "code",
   "execution_count": 134,
   "id": "c488c9e8",
   "metadata": {},
   "outputs": [
    {
     "name": "stdout",
     "output_type": "stream",
     "text": [
      "March\n",
      "April\n",
      "May\n",
      "Invalid month\n"
     ]
    }
   ],
   "source": [
    "def switch_demo(argument):\n",
    "    switcher = {\n",
    "        1: \"January\",\n",
    "        2: \"February\",\n",
    "        3: \"March\",\n",
    "        4: \"April\",\n",
    "        5: \"May\",\n",
    "        6: \"June\",\n",
    "        7: \"July\",\n",
    "        8: \"August\",\n",
    "        9: \"September\",\n",
    "        10: \"October\",\n",
    "        11: \"November\",\n",
    "        12: \"December\"\n",
    "    }\n",
    "    print (switcher.get(argument, \"Invalid month\"))\n",
    "switch_demo(3)    \n",
    "switch_demo(4)\n",
    "switch_demo(5)\n",
    "switch_demo(13)"
   ]
  },
  {
   "cell_type": "code",
   "execution_count": 146,
   "id": "9f7f7f91",
   "metadata": {},
   "outputs": [
    {
     "name": "stdout",
     "output_type": "stream",
     "text": [
      "FEMALE\n",
      "MALE\n"
     ]
    }
   ],
   "source": [
    "def gender(argument):\n",
    "    switcher = {\n",
    "          'M': \"MALE\",\n",
    "          'F': \"FEMALE\"\n",
    "    }\n",
    "    print (switcher.get(argument, \"Invalid gender\"))\n",
    "    \n",
    "gender('F')\n",
    "gender('M')"
   ]
  },
  {
   "cell_type": "code",
   "execution_count": null,
   "id": "9722e2b4",
   "metadata": {},
   "outputs": [],
   "source": []
  },
  {
   "cell_type": "code",
   "execution_count": null,
   "id": "cda2fe21",
   "metadata": {},
   "outputs": [],
   "source": []
  }
 ],
 "metadata": {
  "kernelspec": {
   "display_name": "Python 3",
   "language": "python",
   "name": "python3"
  },
  "language_info": {
   "codemirror_mode": {
    "name": "ipython",
    "version": 3
   },
   "file_extension": ".py",
   "mimetype": "text/x-python",
   "name": "python",
   "nbconvert_exporter": "python",
   "pygments_lexer": "ipython3",
   "version": "3.8.8"
  }
 },
 "nbformat": 4,
 "nbformat_minor": 5
}
