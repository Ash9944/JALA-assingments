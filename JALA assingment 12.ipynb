{
 "cells": [
  {
   "cell_type": "code",
   "execution_count": 12,
   "id": "79068e77",
   "metadata": {},
   "outputs": [],
   "source": [
    "class Employee:\n",
    "    #two argument constructor\n",
    "    def __init__(self, name, id):  \n",
    "        self.id = id  \n",
    "        self.name = name  \n",
    "  \n",
    "    def display(self):  \n",
    "        print(\"ID: %d \\nName: %s\" % (self.id, self.name))  \n",
    "class Student: \n",
    "    #default constructor\n",
    "    def __init__(self):  \n",
    "        print(\"This is default constructor\")  \n",
    "class Test:\n",
    "    #single argument constructor\n",
    "    def __init__(self,name):\n",
    "        self.name=name\n",
    "        print( \"welcome Back !\",self.name)\n",
    "        \n",
    "class main:\n",
    "    def __init__(self):\n",
    "        self.e = Employee(\"Ashwajit\",15000).display()\n",
    "        self.q = Student()\n",
    "        self.a = Test(\"ash\") "
   ]
  },
  {
   "cell_type": "code",
   "execution_count": 13,
   "id": "6e116298",
   "metadata": {},
   "outputs": [
    {
     "name": "stdout",
     "output_type": "stream",
     "text": [
      "ID: 15000 \n",
      "Name: Ashwajit\n",
      "This is default constructor\n",
      "welcome Back ! ash\n"
     ]
    }
   ],
   "source": [
    "q= main()"
   ]
  },
  {
   "cell_type": "code",
   "execution_count": 44,
   "id": "e6df4e91",
   "metadata": {},
   "outputs": [],
   "source": [
    "#Call the constructors(both default and argument constructors) of super class from a child class\n",
    "class Employee:\n",
    "    def __init__(self, name, id):  \n",
    "        self.id = id  \n",
    "        self.name = name  \n",
    "  \n",
    "    def display(self):  \n",
    "        print(\"ID: %d \\nName: %s\" % (self.id, self.name))\n",
    "class employee(Employee):\n",
    "    def __init__(self,name,id):\n",
    "        super().__init__(name, id)\n",
    "\n",
    "#second example        \n",
    "class Student: \n",
    "    def __init__(self):  \n",
    "        print(\"This is default constructor\") \n",
    "class student1(Student):\n",
    "    def __init__(self):\n",
    "        super().__init__()\n",
    "    "
   ]
  },
  {
   "cell_type": "code",
   "execution_count": 45,
   "id": "dd71c7e0",
   "metadata": {},
   "outputs": [
    {
     "name": "stdout",
     "output_type": "stream",
     "text": [
      "This is default constructor\n"
     ]
    },
    {
     "data": {
      "text/plain": [
       "'Ashwajit'"
      ]
     },
     "execution_count": 45,
     "metadata": {},
     "output_type": "execute_result"
    }
   ],
   "source": [
    "s = student1()\n",
    "t = employee(\"Ashwajit\",15000)\n",
    "t.name"
   ]
  },
  {
   "cell_type": "code",
   "execution_count": 46,
   "id": "3977091b",
   "metadata": {},
   "outputs": [],
   "source": [
    "#public class\n",
    "class Hello:\n",
    "    def __init__(self, name, age):\n",
    "        self.Name = name\n",
    "        self.Age = age\n",
    " \n",
    "  \n",
    "    def displayAge(self):\n",
    "           print(\"Age: \", self.Age)\n",
    " "
   ]
  },
  {
   "cell_type": "code",
   "execution_count": 47,
   "id": "fbc85229",
   "metadata": {},
   "outputs": [
    {
     "name": "stdout",
     "output_type": "stream",
     "text": [
      "Age:  23\n"
     ]
    },
    {
     "data": {
      "text/plain": [
       "'ashwajit'"
      ]
     },
     "execution_count": 47,
     "metadata": {},
     "output_type": "execute_result"
    }
   ],
   "source": [
    "h = Hello('ashwajit',23)\n",
    "h.displayAge()\n",
    "h.Name"
   ]
  },
  {
   "cell_type": "code",
   "execution_count": 48,
   "id": "67497cc4",
   "metadata": {},
   "outputs": [
    {
     "name": "stdout",
     "output_type": "stream",
     "text": [
      "Name:  Ashwajit\n",
      "Roll:  1702063\n",
      "Branch:  Electonics & communications\n"
     ]
    },
    {
     "data": {
      "text/plain": [
       "'Ashwajit'"
      ]
     },
     "execution_count": 48,
     "metadata": {},
     "output_type": "execute_result"
    }
   ],
   "source": [
    "#protected class\n",
    "class Student:\n",
    "    _name = None\n",
    "    _roll = None\n",
    "    _branch = None\n",
    "    def __init__(self, name, roll, branch): \n",
    "          self._name = name\n",
    "          self._roll = roll\n",
    "          self._branch = branch \n",
    "    def _displayRollAndBranch(self):\n",
    "          print(\"Name: \",self._name)\n",
    "          print(\"Roll: \", self._roll)\n",
    "          print(\"Branch: \", self._branch)\n",
    "obj = Student(\"Ashwajit\", 1702063, \"Electonics & communications\")\n",
    "obj._displayRollAndBranch()\n",
    "obj._name"
   ]
  },
  {
   "cell_type": "code",
   "execution_count": 49,
   "id": "a0af0ba6",
   "metadata": {},
   "outputs": [
    {
     "name": "stdout",
     "output_type": "stream",
     "text": [
      "Name:  Ashwajith\n",
      "Roll:  1702063\n",
      "Branch:  Electonics & communications\n"
     ]
    },
    {
     "ename": "AttributeError",
     "evalue": "'Student' object has no attribute '__name'",
     "output_type": "error",
     "traceback": [
      "\u001b[1;31m---------------------------------------------------------------------------\u001b[0m",
      "\u001b[1;31mAttributeError\u001b[0m                            Traceback (most recent call last)",
      "\u001b[1;32m<ipython-input-49-0a963eeb9daf>\u001b[0m in \u001b[0;36m<module>\u001b[1;34m\u001b[0m\n\u001b[0;32m     16\u001b[0m \u001b[0mbj\u001b[0m \u001b[1;33m=\u001b[0m \u001b[0mStudent\u001b[0m\u001b[1;33m(\u001b[0m\u001b[1;34m\"Ashwajith\"\u001b[0m\u001b[1;33m,\u001b[0m \u001b[1;36m1702063\u001b[0m\u001b[1;33m,\u001b[0m \u001b[1;34m\"Electonics & communications\"\u001b[0m\u001b[1;33m)\u001b[0m\u001b[1;33m\u001b[0m\u001b[1;33m\u001b[0m\u001b[0m\n\u001b[0;32m     17\u001b[0m \u001b[0mbj\u001b[0m\u001b[1;33m.\u001b[0m\u001b[0m_displayRollAndBranch\u001b[0m\u001b[1;33m(\u001b[0m\u001b[1;33m)\u001b[0m\u001b[1;33m\u001b[0m\u001b[1;33m\u001b[0m\u001b[0m\n\u001b[1;32m---> 18\u001b[1;33m \u001b[0mbj\u001b[0m\u001b[1;33m.\u001b[0m\u001b[0m__name\u001b[0m\u001b[1;33m\u001b[0m\u001b[1;33m\u001b[0m\u001b[0m\n\u001b[0m",
      "\u001b[1;31mAttributeError\u001b[0m: 'Student' object has no attribute '__name'"
     ]
    }
   ],
   "source": [
    "#private class\n",
    "class Student:\n",
    "    __name = None\n",
    "    __roll = None\n",
    "    __branch = None\n",
    "    def __init__(self, name, roll, branch): \n",
    "          self.__name = name\n",
    "          self.__roll = roll\n",
    "          self.__branch = branch \n",
    "    def _displayRollAndBranch(self):\n",
    "          print(\"Name: \",self.__name)\n",
    "          print(\"Roll: \", self.__roll)\n",
    "          print(\"Branch: \", self.__branch)\n",
    "       \n",
    "    \n",
    "bj = Student(\"Ashwajith\", 1702063, \"Electonics & communications\")   \n",
    "bj._displayRollAndBranch()\n",
    "bj.__name"
   ]
  },
  {
   "cell_type": "code",
   "execution_count": 53,
   "id": "409223fc",
   "metadata": {},
   "outputs": [],
   "source": [
    "class Student: \n",
    "    #default constructor\n",
    "    def __init__(self):  \n",
    "        print(\"This is default constructor\")  \n",
    "class Test:\n",
    "    #parameterized constructor \n",
    "    def __init__(self,name):\n",
    "        self.name=name\n",
    "        print( \"welcome Back !\",self.name)"
   ]
  },
  {
   "cell_type": "code",
   "execution_count": 54,
   "id": "6804cccf",
   "metadata": {},
   "outputs": [
    {
     "name": "stdout",
     "output_type": "stream",
     "text": [
      "This is default constructor\n",
      "welcome Back ! ash\n"
     ]
    }
   ],
   "source": [
    "r = Student()\n",
    "t = Test(\"ash\")"
   ]
  },
  {
   "cell_type": "code",
   "execution_count": null,
   "id": "cc3c87fc",
   "metadata": {},
   "outputs": [],
   "source": []
  }
 ],
 "metadata": {
  "kernelspec": {
   "display_name": "Python 3",
   "language": "python",
   "name": "python3"
  },
  "language_info": {
   "codemirror_mode": {
    "name": "ipython",
    "version": 3
   },
   "file_extension": ".py",
   "mimetype": "text/x-python",
   "name": "python",
   "nbconvert_exporter": "python",
   "pygments_lexer": "ipython3",
   "version": "3.8.8"
  }
 },
 "nbformat": 4,
 "nbformat_minor": 5
}
