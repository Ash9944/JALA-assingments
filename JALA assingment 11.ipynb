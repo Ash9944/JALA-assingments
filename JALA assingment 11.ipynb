{
 "cells": [
  {
   "cell_type": "code",
   "execution_count": 1,
   "id": "b4ceea14",
   "metadata": {},
   "outputs": [
    {
     "data": {
      "text/plain": [
       "\"\\nGames : Windows : Full Game : English\\n\\nAbout the game:\\n\\nFar Cry 4 is a action-adventure first-person shooter video game.\\nThe single-player story follows Ajay Ghale, an English-speaking Nepalese native who returns to Kyrat, \\na wild and untamed region of the Himalayas to scatter his mother's ashes. \\nOnce there, he becomes caught up in a civil war as the people struggle under the despotic regime of \\nself-appointed king Pagan Min (Troy Baker), ruling under an oppressive monarchy. \\nFar Cry 4 marks the first time in the Far Cry series that the main characters are natives to the country in which the game takes place....\\n\\n\\n\\nPC System Requirements\\nMinimum:\\n    Supported OS: Windows 7 SP1, Windows 8/8.1 (64-bit versions only)\\n    Processor: Intel Core i5-750 @ 2.6 GHz or AMD Phenom II X4 955 @ 3.2 GHz\\n    Memory: 4GB\\n    Video Card: Nvidia GeForce GTX 460 or AMD Radeon HD5850 (1GB VRAM)\\n    Direct X: Version 11\\n    Hard Drive: 44 GB available space\\n\\n\\nNotes:\\nThis version of game is already cracked - just install and play.\\nIncluded all DLC (Valley of the Yetis also)\\n\\nMore info and support on www.nosteam.ro\\nhttp://www.nosteam.ro/index.php?topic=5475.msg123637#msg123637\\n\\n\\n\\nHow to install:\\nAfter download is done:\\n- open (executable file) ,\\n- choose location ,\\n- click install ,\\n- wait until is done \\n- play game from desktop shortcut.\\n\\n\\n\\nIf you like this game torrent seed it to others.\\nEnjoy .\\n\""
      ]
     },
     "execution_count": 1,
     "metadata": {},
     "output_type": "execute_result"
    }
   ],
   "source": [
    "file1 = open(\"E:/READ ME FIRST !!!.txt\",\"r\")\n",
    "file1.read()"
   ]
  },
  {
   "cell_type": "code",
   "execution_count": 2,
   "id": "b1530a11",
   "metadata": {},
   "outputs": [],
   "source": [
    "file2 = open(\"E:/READ ME.txt\",\"w+\")\n",
    "file2.write(\"HEYYY my name is ASHWa !\")\n",
    "file2.close()\n"
   ]
  },
  {
   "cell_type": "code",
   "execution_count": 3,
   "id": "5c8a0fcd",
   "metadata": {},
   "outputs": [
    {
     "data": {
      "text/plain": [
       "'HEYYY my name is ASHWa !'"
      ]
     },
     "execution_count": 3,
     "metadata": {},
     "output_type": "execute_result"
    }
   ],
   "source": [
    "file = open(\"E:/READ\",\"r\")\n",
    "file.read()\n"
   ]
  },
  {
   "cell_type": "code",
   "execution_count": 32,
   "id": "ff249060",
   "metadata": {},
   "outputs": [
    {
     "data": {
      "text/plain": [
       "True"
      ]
     },
     "execution_count": 32,
     "metadata": {},
     "output_type": "execute_result"
    }
   ],
   "source": [
    "file3 = open(\"E:/READ\",\"r\")\n",
    "file3.seekable()"
   ]
  },
  {
   "cell_type": "code",
   "execution_count": 53,
   "id": "c6ff7947",
   "metadata": {},
   "outputs": [
    {
     "name": "stdout",
     "output_type": "stream",
     "text": [
      "please enter the index you want to start :10\n"
     ]
    },
    {
     "data": {
      "text/plain": [
       "'Windows : Full Game : English\\n'"
      ]
     },
     "execution_count": 53,
     "metadata": {},
     "output_type": "execute_result"
    }
   ],
   "source": [
    "file1 = open(\"E:/READ ME FIRST !!!.txt\",\"r\")\n",
    "num=int(input(\"please enter the index you want to start :\"))\n",
    "file1.seek(num)\n",
    "file1.readline()"
   ]
  },
  {
   "cell_type": "code",
   "execution_count": 38,
   "id": "10a1f0cc",
   "metadata": {},
   "outputs": [
    {
     "name": "stdout",
     "output_type": "stream",
     "text": [
      "True\n",
      "False\n"
     ]
    }
   ],
   "source": [
    "import os\n",
    "#read_acess\n",
    "print(os.access(\"E:/READ ME FIRST !!!.txt\", os.R_OK))\n",
    "#write_acess\n",
    "print(os.access(\"E:/READ ME FIRST !!!.txt\", os.W_OK))"
   ]
  },
  {
   "cell_type": "code",
   "execution_count": null,
   "id": "50dbc6df",
   "metadata": {},
   "outputs": [],
   "source": []
  }
 ],
 "metadata": {
  "kernelspec": {
   "display_name": "Python 3",
   "language": "python",
   "name": "python3"
  },
  "language_info": {
   "codemirror_mode": {
    "name": "ipython",
    "version": 3
   },
   "file_extension": ".py",
   "mimetype": "text/x-python",
   "name": "python",
   "nbconvert_exporter": "python",
   "pygments_lexer": "ipython3",
   "version": "3.8.8"
  }
 },
 "nbformat": 4,
 "nbformat_minor": 5
}
