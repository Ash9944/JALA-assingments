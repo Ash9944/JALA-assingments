{
 "cells": [
  {
   "cell_type": "code",
   "execution_count": 5,
   "id": "0bb252bf",
   "metadata": {},
   "outputs": [
    {
     "name": "stdout",
     "output_type": "stream",
     "text": [
      "please enter your nameashwajit\n",
      "Hello ashwajit\n"
     ]
    }
   ],
   "source": [
    "name = input('please enter your name')\n",
    "print('Hello'+\" \"+ name)"
   ]
  },
  {
   "cell_type": "code",
   "execution_count": 10,
   "id": "418c069d",
   "metadata": {},
   "outputs": [
    {
     "name": "stdout",
     "output_type": "stream",
     "text": [
      "C\n"
     ]
    }
   ],
   "source": [
    "# single line comment\n",
    "print (\"C\")"
   ]
  },
  {
   "cell_type": "code",
   "execution_count": 9,
   "id": "8817da80",
   "metadata": {},
   "outputs": [
    {
     "name": "stdout",
     "output_type": "stream",
     "text": [
      "P\n"
     ]
    }
   ],
   "source": [
    "\"\"\"this is a multiline comment \n",
    "hence we can type multiple line\"\"\"\n",
    "print (\"P\")"
   ]
  },
  {
   "cell_type": "code",
   "execution_count": 15,
   "id": "61563857",
   "metadata": {},
   "outputs": [
    {
     "name": "stdout",
     "output_type": "stream",
     "text": [
      "<class 'int'>\n",
      "<class 'float'>\n",
      "<class 'bool'>\n",
      "<class 'str'>\n",
      "<class 'float'>\n"
     ]
    }
   ],
   "source": [
    "num = 23\n",
    "print(type(num))\n",
    "num1 = 23.34\n",
    "print(type(num1))\n",
    "boo = 20 > 24\n",
    "print(type(boo))\n",
    "#no char in python \n",
    "char = 'a'\n",
    "print(type(char))\n",
    "#double variable aka floating point\n",
    "num2 = 1.0e6\n",
    "print(type(num2))\n",
    "\n"
   ]
  },
  {
   "cell_type": "code",
   "execution_count": 23,
   "id": "d2a900f0",
   "metadata": {},
   "outputs": [
    {
     "name": "stdout",
     "output_type": "stream",
     "text": [
      "enter your number:23\n",
      "46\n",
      "23\n"
     ]
    },
    {
     "ename": "NameError",
     "evalue": "name 'ds' is not defined",
     "output_type": "error",
     "traceback": [
      "\u001b[1;31m---------------------------------------------------------------------------\u001b[0m",
      "\u001b[1;31mNameError\u001b[0m                                 Traceback (most recent call last)",
      "\u001b[1;32m<ipython-input-23-e0c9b976b7a4>\u001b[0m in \u001b[0;36m<module>\u001b[1;34m\u001b[0m\n\u001b[0;32m      9\u001b[0m \u001b[0mprint\u001b[0m\u001b[1;33m(\u001b[0m\u001b[0mod\u001b[0m\u001b[1;33m)\u001b[0m\u001b[1;33m\u001b[0m\u001b[1;33m\u001b[0m\u001b[0m\n\u001b[0;32m     10\u001b[0m \u001b[1;31m#local variable\u001b[0m\u001b[1;33m\u001b[0m\u001b[1;33m\u001b[0m\u001b[1;33m\u001b[0m\u001b[0m\n\u001b[1;32m---> 11\u001b[1;33m \u001b[0mprint\u001b[0m\u001b[1;33m(\u001b[0m\u001b[0mds\u001b[0m\u001b[1;33m)\u001b[0m\u001b[1;33m\u001b[0m\u001b[1;33m\u001b[0m\u001b[0m\n\u001b[0m",
      "\u001b[1;31mNameError\u001b[0m: name 'ds' is not defined"
     ]
    }
   ],
   "source": [
    "od = int(input(\"enter your number:\"))\n",
    "def fun(s):\n",
    "    ds=s*2\n",
    "    ab = ds*3\n",
    "    print(ds)\n",
    "fun(od)\n",
    "#global variable\n",
    "print(od)\n",
    "#local variable\n",
    "print(ds)"
   ]
  },
  {
   "cell_type": "code",
   "execution_count": null,
   "id": "626a13fa",
   "metadata": {},
   "outputs": [],
   "source": []
  }
 ],
 "metadata": {
  "kernelspec": {
   "display_name": "Python 3",
   "language": "python",
   "name": "python3"
  },
  "language_info": {
   "codemirror_mode": {
    "name": "ipython",
    "version": 3
   },
   "file_extension": ".py",
   "mimetype": "text/x-python",
   "name": "python",
   "nbconvert_exporter": "python",
   "pygments_lexer": "ipython3",
   "version": "3.8.8"
  }
 },
 "nbformat": 4,
 "nbformat_minor": 5
}
