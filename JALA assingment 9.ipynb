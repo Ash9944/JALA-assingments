{
 "cells": [
  {
   "cell_type": "code",
   "execution_count": 2,
   "id": "6008850b",
   "metadata": {},
   "outputs": [],
   "source": [
    "#Create an abstract class with abstract and non-abstract methods.\n",
    "\n",
    "from abc import ABC, abstractmethod\n",
    "class Animal(ABC):\n",
    "    @abstractmethod\n",
    "    def move(self):\n",
    "        pass\n",
    "    def move(self):\n",
    "        print(\"I can walk and run\")\n",
    "    \n"
   ]
  },
  {
   "cell_type": "code",
   "execution_count": 3,
   "id": "5159a559",
   "metadata": {},
   "outputs": [
    {
     "name": "stdout",
     "output_type": "stream",
     "text": [
      "I can walk and run\n"
     ]
    }
   ],
   "source": [
    "q = Animal()\n",
    "q.move()"
   ]
  },
  {
   "cell_type": "code",
   "execution_count": 4,
   "id": "0621106f",
   "metadata": {},
   "outputs": [
    {
     "name": "stdout",
     "output_type": "stream",
     "text": [
      "50\n"
     ]
    }
   ],
   "source": [
    "'''Create a sub class for an abstract class. Create an object in the child class for the \n",
    "abstract class and access the non-abstract methods'''\n",
    "class Abstract(ABC):\n",
    "    \n",
    "    @abstractmethod\n",
    "    def do_something(self):\n",
    "        print(\"Abstract\")\n",
    "        \n",
    "class Subclass(Abstract):\n",
    "    \n",
    "    def do_something(self):\n",
    "        self.i = 50\n",
    "        print(self.i)\n",
    "        \n",
    "x = Subclass()\n",
    "x.do_something()\n",
    "        "
   ]
  },
  {
   "cell_type": "code",
   "execution_count": 11,
   "id": "8cc941f0",
   "metadata": {},
   "outputs": [
    {
     "name": "stdout",
     "output_type": "stream",
     "text": [
      "Abstract\n"
     ]
    }
   ],
   "source": [
    "#Create an instance for the child class in child class and call abstract methods\n",
    "class Abstract1(ABC):\n",
    "    \n",
    "    @abstractmethod\n",
    "    def do_something(self):\n",
    "        print(\"Abstract\")\n",
    "        \n",
    "class Subclass1(Abstract):\n",
    "\n",
    "    def do_something(self):\n",
    "        super().do_something()\n",
    "        \n",
    "        \n",
    "\n",
    "\n",
    "xr = Subclass1()\n",
    "xr.do_something()"
   ]
  },
  {
   "cell_type": "code",
   "execution_count": 12,
   "id": "cd8f8362",
   "metadata": {},
   "outputs": [
    {
     "name": "stdout",
     "output_type": "stream",
     "text": [
      "Subclass\n"
     ]
    }
   ],
   "source": [
    "# Create an instance for the child class in child class and call non-abstract methods\n",
    "class Abstract2(ABC):\n",
    "    \n",
    "    @abstractmethod\n",
    "    def do_something(self):\n",
    "        print(\"Abstract\")\n",
    "        \n",
    "class Subclass2(Abstract):\n",
    "    def do_something(self):\n",
    "        print(\"Subclass\")\n",
    "        \n",
    "\n",
    "xp =Subclass2()\n",
    "xp.do_something()\n"
   ]
  },
  {
   "cell_type": "code",
   "execution_count": null,
   "id": "60ec1eaa",
   "metadata": {},
   "outputs": [],
   "source": []
  }
 ],
 "metadata": {
  "kernelspec": {
   "display_name": "Python 3",
   "language": "python",
   "name": "python3"
  },
  "language_info": {
   "codemirror_mode": {
    "name": "ipython",
    "version": 3
   },
   "file_extension": ".py",
   "mimetype": "text/x-python",
   "name": "python",
   "nbconvert_exporter": "python",
   "pygments_lexer": "ipython3",
   "version": "3.8.8"
  }
 },
 "nbformat": 4,
 "nbformat_minor": 5
}
