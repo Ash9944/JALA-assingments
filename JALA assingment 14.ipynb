{
 "cells": [
  {
   "cell_type": "code",
   "execution_count": 1,
   "id": "1ff853f9",
   "metadata": {},
   "outputs": [
    {
     "name": "stdout",
     "output_type": "stream",
     "text": [
      "Enter a:10\n",
      "Enter b:0\n"
     ]
    },
    {
     "ename": "ZeroDivisionError",
     "evalue": "division by zero",
     "output_type": "error",
     "traceback": [
      "\u001b[1;31m---------------------------------------------------------------------------\u001b[0m",
      "\u001b[1;31mZeroDivisionError\u001b[0m                         Traceback (most recent call last)",
      "\u001b[1;32m<ipython-input-1-e27e6aad5918>\u001b[0m in \u001b[0;36m<module>\u001b[1;34m\u001b[0m\n\u001b[0;32m      1\u001b[0m \u001b[0ma\u001b[0m \u001b[1;33m=\u001b[0m \u001b[0mint\u001b[0m\u001b[1;33m(\u001b[0m\u001b[0minput\u001b[0m\u001b[1;33m(\u001b[0m\u001b[1;34m\"Enter a:\"\u001b[0m\u001b[1;33m)\u001b[0m\u001b[1;33m)\u001b[0m\u001b[1;33m\u001b[0m\u001b[1;33m\u001b[0m\u001b[0m\n\u001b[0;32m      2\u001b[0m \u001b[0mb\u001b[0m \u001b[1;33m=\u001b[0m \u001b[0mint\u001b[0m\u001b[1;33m(\u001b[0m\u001b[0minput\u001b[0m\u001b[1;33m(\u001b[0m\u001b[1;34m\"Enter b:\"\u001b[0m\u001b[1;33m)\u001b[0m\u001b[1;33m)\u001b[0m\u001b[1;33m\u001b[0m\u001b[1;33m\u001b[0m\u001b[0m\n\u001b[1;32m----> 3\u001b[1;33m \u001b[0mc\u001b[0m \u001b[1;33m=\u001b[0m \u001b[0ma\u001b[0m\u001b[1;33m/\u001b[0m\u001b[0mb\u001b[0m\u001b[1;33m\u001b[0m\u001b[1;33m\u001b[0m\u001b[0m\n\u001b[0m\u001b[0;32m      4\u001b[0m \u001b[0mprint\u001b[0m \u001b[1;33m(\u001b[0m\u001b[0mc\u001b[0m\u001b[1;33m)\u001b[0m\u001b[1;33m\u001b[0m\u001b[1;33m\u001b[0m\u001b[0m\n",
      "\u001b[1;31mZeroDivisionError\u001b[0m: division by zero"
     ]
    }
   ],
   "source": [
    "a = int(input(\"Enter a:\"))    \n",
    "b = int(input(\"Enter b:\"))    \n",
    "c = a/b  \n",
    "print (c)"
   ]
  },
  {
   "cell_type": "code",
   "execution_count": 2,
   "id": "74b9d633",
   "metadata": {},
   "outputs": [
    {
     "name": "stdout",
     "output_type": "stream",
     "text": [
      "Enter a:10\n",
      "Enter b:0\n",
      "no zero division available\n"
     ]
    }
   ],
   "source": [
    "try:\n",
    "    a = int(input(\"Enter a:\"))    \n",
    "    b = int(input(\"Enter b:\"))    \n",
    "    c = a/b  \n",
    "    print (c)\n",
    "except:\n",
    "    print(\"no zero division available\")"
   ]
  },
  {
   "cell_type": "code",
   "execution_count": 22,
   "id": "a3db5bb3",
   "metadata": {},
   "outputs": [],
   "source": [
    "class hello:\n",
    "    def __init__(self,first,sec):\n",
    "        self.first = first\n",
    "        self.sec = sec\n",
    "        self.res = self.first/self.sec\n",
    "        \n",
    "    def main(self):\n",
    "        print(\"your result is {}\".format(self.res))"
   ]
  },
  {
   "cell_type": "code",
   "execution_count": 75,
   "id": "dd4a6328",
   "metadata": {},
   "outputs": [
    {
     "ename": "ZeroDivisionError",
     "evalue": "division by zero",
     "output_type": "error",
     "traceback": [
      "\u001b[1;31m---------------------------------------------------------------------------\u001b[0m",
      "\u001b[1;31mZeroDivisionError\u001b[0m                         Traceback (most recent call last)",
      "\u001b[1;32m<ipython-input-75-d05b930ea774>\u001b[0m in \u001b[0;36m<module>\u001b[1;34m\u001b[0m\n\u001b[1;32m----> 1\u001b[1;33m \u001b[0mh\u001b[0m \u001b[1;33m=\u001b[0m \u001b[0mhello\u001b[0m\u001b[1;33m(\u001b[0m\u001b[1;36m10\u001b[0m\u001b[1;33m,\u001b[0m\u001b[1;36m0\u001b[0m\u001b[1;33m)\u001b[0m\u001b[1;33m\u001b[0m\u001b[1;33m\u001b[0m\u001b[0m\n\u001b[0m\u001b[0;32m      2\u001b[0m \u001b[0mh\u001b[0m\u001b[1;33m.\u001b[0m\u001b[0mmain\u001b[0m\u001b[1;33m(\u001b[0m\u001b[1;33m)\u001b[0m\u001b[1;33m\u001b[0m\u001b[1;33m\u001b[0m\u001b[0m\n",
      "\u001b[1;32m<ipython-input-22-2fbf9628fd07>\u001b[0m in \u001b[0;36m__init__\u001b[1;34m(self, first, sec)\u001b[0m\n\u001b[0;32m      3\u001b[0m         \u001b[0mself\u001b[0m\u001b[1;33m.\u001b[0m\u001b[0mfirst\u001b[0m \u001b[1;33m=\u001b[0m \u001b[0mfirst\u001b[0m\u001b[1;33m\u001b[0m\u001b[1;33m\u001b[0m\u001b[0m\n\u001b[0;32m      4\u001b[0m         \u001b[0mself\u001b[0m\u001b[1;33m.\u001b[0m\u001b[0msec\u001b[0m \u001b[1;33m=\u001b[0m \u001b[0msec\u001b[0m\u001b[1;33m\u001b[0m\u001b[1;33m\u001b[0m\u001b[0m\n\u001b[1;32m----> 5\u001b[1;33m         \u001b[0mself\u001b[0m\u001b[1;33m.\u001b[0m\u001b[0mres\u001b[0m \u001b[1;33m=\u001b[0m \u001b[0mself\u001b[0m\u001b[1;33m.\u001b[0m\u001b[0mfirst\u001b[0m\u001b[1;33m/\u001b[0m\u001b[0mself\u001b[0m\u001b[1;33m.\u001b[0m\u001b[0msec\u001b[0m\u001b[1;33m\u001b[0m\u001b[1;33m\u001b[0m\u001b[0m\n\u001b[0m\u001b[0;32m      6\u001b[0m \u001b[1;33m\u001b[0m\u001b[0m\n\u001b[0;32m      7\u001b[0m     \u001b[1;32mdef\u001b[0m \u001b[0mnain\u001b[0m\u001b[1;33m(\u001b[0m\u001b[0mself\u001b[0m\u001b[1;33m)\u001b[0m\u001b[1;33m:\u001b[0m\u001b[1;33m\u001b[0m\u001b[1;33m\u001b[0m\u001b[0m\n",
      "\u001b[1;31mZeroDivisionError\u001b[0m: division by zero"
     ]
    }
   ],
   "source": [
    "h = hello(10,0)\n",
    "h.main()"
   ]
  },
  {
   "cell_type": "code",
   "execution_count": 30,
   "id": "89cc43b1",
   "metadata": {},
   "outputs": [
    {
     "name": "stdout",
     "output_type": "stream",
     "text": [
      "You divided by 0\n"
     ]
    }
   ],
   "source": [
    "a,b=1,\"0\"\n",
    "a,b=10,0\n",
    "try:\n",
    "    print(a/b)\n",
    "except TypeError:\n",
    "          print(\"You added values of incompatible types\")\n",
    "except ZeroDivisionError:\n",
    "          print(\"You divided by 0\")"
   ]
  },
  {
   "cell_type": "code",
   "execution_count": 35,
   "id": "a6462d9c",
   "metadata": {},
   "outputs": [
    {
     "name": "stdout",
     "output_type": "stream",
     "text": [
      "Something went wrong\n"
     ]
    }
   ],
   "source": [
    "try:\n",
    "    print(10/\"0\")\n",
    "    \n",
    "except ZeroDivisionError:\n",
    "           print(\"Error of 0\")\n",
    "except:\n",
    "    print(\"Something went wrong\")"
   ]
  },
  {
   "cell_type": "code",
   "execution_count": 69,
   "id": "24a2cbe0",
   "metadata": {},
   "outputs": [],
   "source": [
    "def input_age(age):\n",
    "    try:\n",
    "        assert int(age) > 18\n",
    "    except :\n",
    "        print ('ValueError: ')\n",
    "    else:\n",
    "        print('Age is saved successfully')"
   ]
  },
  {
   "cell_type": "code",
   "execution_count": 74,
   "id": "6b0095c9",
   "metadata": {
    "scrolled": true
   },
   "outputs": [
    {
     "name": "stdout",
     "output_type": "stream",
     "text": [
      "Age is saved successfully\n",
      "ValueError: \n",
      "ValueError: \n"
     ]
    }
   ],
   "source": [
    "input_age(23)\n",
    "input_age(14)\n",
    "input_age(\"1\")"
   ]
  },
  {
   "cell_type": "code",
   "execution_count": 66,
   "id": "34b3e9e6",
   "metadata": {},
   "outputs": [
    {
     "name": "stdout",
     "output_type": "stream",
     "text": [
      "This is a value error\n",
      "This will print no matter what.\n"
     ]
    }
   ],
   "source": [
    "try:\n",
    "    print(1/\"1\")\n",
    "except :\n",
    "        print(\"This is a value error\")\n",
    "finally:\n",
    "     print(\"This will print no matter what.\")\n"
   ]
  },
  {
   "cell_type": "code",
   "execution_count": 83,
   "id": "728c74d7",
   "metadata": {},
   "outputs": [
    {
     "name": "stdout",
     "output_type": "stream",
     "text": [
      "Enter a:100\n",
      "Enter b:0\n",
      "Invalid values\n"
     ]
    }
   ],
   "source": [
    "#generating arthmetic error\n",
    "try:\n",
    "    a = int(input(\"Enter a:\"))    \n",
    "    b = int(input(\"Enter b:\"))    \n",
    "    c = a/b  \n",
    "    print (c)\n",
    "except ArithmeticError:\n",
    "    print(\"Invalid values\")"
   ]
  },
  {
   "cell_type": "code",
   "execution_count": 100,
   "id": "e3e4a276",
   "metadata": {},
   "outputs": [
    {
     "name": "stdout",
     "output_type": "stream",
     "text": [
      "[Errno 2] No such file or directory: 'missing'\n"
     ]
    }
   ],
   "source": [
    "#generating filenotfound error\n",
    "try:\n",
    "    f = open('missing')\n",
    "except FileNotFoundError as c:\n",
    "        print(c)"
   ]
  },
  {
   "cell_type": "code",
   "execution_count": 99,
   "id": "6552cee7",
   "metadata": {},
   "outputs": [
    {
     "name": "stdout",
     "output_type": "stream",
     "text": [
      "[Errno 2] No such file or directory: 'filethatdoesnotexist.txt'\n"
     ]
    }
   ],
   "source": [
    "#generating IO exception\n",
    "def something():\n",
    "    try:\n",
    "        file = open ( \"filethatdoesnotexist.txt\", 'r' )\n",
    "    except IOError as e :\n",
    "        print (e)\n",
    "something()"
   ]
  },
  {
   "cell_type": "code",
   "execution_count": null,
   "id": "1bdd90c8",
   "metadata": {},
   "outputs": [],
   "source": [
    "#"
   ]
  },
  {
   "cell_type": "code",
   "execution_count": null,
   "id": "541398dc",
   "metadata": {},
   "outputs": [],
   "source": []
  }
 ],
 "metadata": {
  "kernelspec": {
   "display_name": "Python 3",
   "language": "python",
   "name": "python3"
  },
  "language_info": {
   "codemirror_mode": {
    "name": "ipython",
    "version": 3
   },
   "file_extension": ".py",
   "mimetype": "text/x-python",
   "name": "python",
   "nbconvert_exporter": "python",
   "pygments_lexer": "ipython3",
   "version": "3.8.8"
  }
 },
 "nbformat": 4,
 "nbformat_minor": 5
}
