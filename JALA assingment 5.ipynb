{
 "cells": [
  {
   "cell_type": "code",
   "execution_count": 3,
   "id": "417c4ffb",
   "metadata": {},
   "outputs": [
    {
     "name": "stdout",
     "output_type": "stream",
     "text": [
      "9\n"
     ]
    }
   ],
   "source": [
    "class exp:\n",
    "    staticVariable = 9 \n",
    "\n",
    "print (exp.staticVariable)"
   ]
  },
  {
   "cell_type": "code",
   "execution_count": 8,
   "id": "5177c248",
   "metadata": {},
   "outputs": [
    {
     "name": "stdout",
     "output_type": "stream",
     "text": [
      "9\n"
     ]
    }
   ],
   "source": [
    "inst = exp()\n",
    "print(inst.staticVariable) "
   ]
  },
  {
   "cell_type": "code",
   "execution_count": 9,
   "id": "c976d539",
   "metadata": {},
   "outputs": [
    {
     "name": "stdout",
     "output_type": "stream",
     "text": [
      "12\n",
      "9\n"
     ]
    }
   ],
   "source": [
    "inst.staticVariable = 12\n",
    "print(inst.staticVariable) \n",
    "print(exp.staticVariable) "
   ]
  },
  {
   "cell_type": "code",
   "execution_count": 12,
   "id": "cf76e768",
   "metadata": {},
   "outputs": [
    {
     "name": "stdout",
     "output_type": "stream",
     "text": [
      "20\n"
     ]
    }
   ],
   "source": [
    "exp.staticVariable =20\n",
    "print(exp.staticVariable)"
   ]
  },
  {
   "cell_type": "code",
   "execution_count": null,
   "id": "25ee24ed",
   "metadata": {},
   "outputs": [],
   "source": []
  }
 ],
 "metadata": {
  "kernelspec": {
   "display_name": "Python 3",
   "language": "python",
   "name": "python3"
  },
  "language_info": {
   "codemirror_mode": {
    "name": "ipython",
    "version": 3
   },
   "file_extension": ".py",
   "mimetype": "text/x-python",
   "name": "python",
   "nbconvert_exporter": "python",
   "pygments_lexer": "ipython3",
   "version": "3.8.8"
  }
 },
 "nbformat": 4,
 "nbformat_minor": 5
}
