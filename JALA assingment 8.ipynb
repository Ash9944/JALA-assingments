{
 "cells": [
  {
   "cell_type": "code",
   "execution_count": 12,
   "id": "8716fcb8",
   "metadata": {},
   "outputs": [],
   "source": [
    "class Private:\n",
    "    def __init__(self,a,b,c):\n",
    "        self.__a = a\n",
    "        self.__b = b\n",
    "        self.__c = c\n",
    "        self.__A = (self.__a**3 + self.__b**3 + self.__c**3)\n",
    "    def main(self):\n",
    "        return self.__A\n",
    "class sub(Private):\n",
    "    def __init__(self,a,b,c):\n",
    "        super().__init__(a,b,c)\n",
    "        "
   ]
  },
  {
   "cell_type": "code",
   "execution_count": 13,
   "id": "29bf41d9",
   "metadata": {},
   "outputs": [
    {
     "data": {
      "text/plain": [
       "153"
      ]
     },
     "execution_count": 13,
     "metadata": {},
     "output_type": "execute_result"
    }
   ],
   "source": [
    "ds = sub(1,5,3)\n",
    "ds._Private__A"
   ]
  },
  {
   "cell_type": "code",
   "execution_count": 14,
   "id": "c0014bb0",
   "metadata": {},
   "outputs": [
    {
     "data": {
      "text/plain": [
       "153"
      ]
     },
     "execution_count": 14,
     "metadata": {},
     "output_type": "execute_result"
    }
   ],
   "source": [
    "p=Private(1,5,3)\n",
    "p.main()"
   ]
  },
  {
   "cell_type": "code",
   "execution_count": 13,
   "id": "0b0f80ee",
   "metadata": {},
   "outputs": [],
   "source": [
    "class pri:\n",
    "    def __init__(self,a,b,c):\n",
    "        self._a = a\n",
    "        self._b = b\n",
    "        self._c = c\n",
    "        self._A = (self._a**3 + self._b**3 + self._c**3)\n",
    "    def main(self):\n",
    "        return self._A\n",
    "class sub1(pri):\n",
    "    def __init__(self,a,b,c):\n",
    "        super().__init__(a,b,c)\n",
    "        "
   ]
  },
  {
   "cell_type": "code",
   "execution_count": 18,
   "id": "7b9cba3c",
   "metadata": {},
   "outputs": [
    {
     "name": "stdout",
     "output_type": "stream",
     "text": [
      "174707\n",
      "174376\n"
     ]
    }
   ],
   "source": [
    "r = pri(10,52,32)\n",
    "q = sub1(11,52,32)\n",
    "print(q.main())\n",
    "print(r.main())"
   ]
  },
  {
   "cell_type": "code",
   "execution_count": null,
   "id": "29af6363",
   "metadata": {},
   "outputs": [],
   "source": [
    "class package:\n",
    "    import "
   ]
  }
 ],
 "metadata": {
  "kernelspec": {
   "display_name": "Python 3",
   "language": "python",
   "name": "python3"
  },
  "language_info": {
   "codemirror_mode": {
    "name": "ipython",
    "version": 3
   },
   "file_extension": ".py",
   "mimetype": "text/x-python",
   "name": "python",
   "nbconvert_exporter": "python",
   "pygments_lexer": "ipython3",
   "version": "3.8.8"
  }
 },
 "nbformat": 4,
 "nbformat_minor": 5
}
