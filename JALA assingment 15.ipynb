{
 "cells": [
  {
   "cell_type": "code",
   "execution_count": 9,
   "id": "7375543f",
   "metadata": {},
   "outputs": [],
   "source": [
    "Dict = {\"1702063\": 'Ashwajit', \"1702064\": \"Nirmal\", \"1702066\": 'Jack','1702067':'Surya','1702068':'Oliver'}"
   ]
  },
  {
   "cell_type": "code",
   "execution_count": 10,
   "id": "df79483e",
   "metadata": {},
   "outputs": [],
   "source": [
    "Dict['1702065'] = \"Arvind\""
   ]
  },
  {
   "cell_type": "code",
   "execution_count": 11,
   "id": "19b62d2f",
   "metadata": {},
   "outputs": [
    {
     "data": {
      "text/plain": [
       "{'1702063': 'Ashwajit',\n",
       " '1702064': 'Nirmal',\n",
       " '1702066': 'Jack',\n",
       " '1702067': 'Surya',\n",
       " '1702068': 'Oliver',\n",
       " '1702065': 'Arvind'}"
      ]
     },
     "execution_count": 11,
     "metadata": {},
     "output_type": "execute_result"
    }
   ],
   "source": [
    "Dict"
   ]
  },
  {
   "cell_type": "code",
   "execution_count": 12,
   "id": "19ab39ff",
   "metadata": {},
   "outputs": [],
   "source": [
    "Dict[\"1702064\"] = 'Nirmal.K'"
   ]
  },
  {
   "cell_type": "code",
   "execution_count": 13,
   "id": "227fd98f",
   "metadata": {},
   "outputs": [
    {
     "data": {
      "text/plain": [
       "{'1702063': 'Ashwajit',\n",
       " '1702064': 'Nirmal.K',\n",
       " '1702066': 'Jack',\n",
       " '1702067': 'Surya',\n",
       " '1702068': 'Oliver',\n",
       " '1702065': 'Arvind'}"
      ]
     },
     "execution_count": 13,
     "metadata": {},
     "output_type": "execute_result"
    }
   ],
   "source": [
    "Dict"
   ]
  },
  {
   "cell_type": "code",
   "execution_count": 14,
   "id": "4eb27b16",
   "metadata": {},
   "outputs": [
    {
     "data": {
      "text/plain": [
       "'Ashwajit'"
      ]
     },
     "execution_count": 14,
     "metadata": {},
     "output_type": "execute_result"
    }
   ],
   "source": [
    "Dict['1702063']"
   ]
  },
  {
   "cell_type": "code",
   "execution_count": 15,
   "id": "1973e4a8",
   "metadata": {},
   "outputs": [],
   "source": [
    "people = {1: {'name': 'John', 'age': '27', 'sex': 'Male'},\n",
    "          2: {'name': 'Marie', 'age': '22', 'sex': 'Female'}}"
   ]
  },
  {
   "cell_type": "code",
   "execution_count": 19,
   "id": "da8b1743",
   "metadata": {},
   "outputs": [
    {
     "data": {
      "text/plain": [
       "'22'"
      ]
     },
     "execution_count": 19,
     "metadata": {},
     "output_type": "execute_result"
    }
   ],
   "source": [
    "people[2]['age']"
   ]
  },
  {
   "cell_type": "code",
   "execution_count": 24,
   "id": "577e243f",
   "metadata": {},
   "outputs": [
    {
     "data": {
      "text/plain": [
       "dict_keys(['name', 'age', 'sex'])"
      ]
     },
     "execution_count": 24,
     "metadata": {},
     "output_type": "execute_result"
    }
   ],
   "source": [
    "people[2].keys()"
   ]
  },
  {
   "cell_type": "code",
   "execution_count": 25,
   "id": "6840e301",
   "metadata": {},
   "outputs": [
    {
     "data": {
      "text/plain": [
       "dict_keys(['1702063', '1702064', '1702066', '1702067', '1702068', '1702065'])"
      ]
     },
     "execution_count": 25,
     "metadata": {},
     "output_type": "execute_result"
    }
   ],
   "source": [
    "Dict.keys()"
   ]
  },
  {
   "cell_type": "code",
   "execution_count": 26,
   "id": "619b0cfc",
   "metadata": {},
   "outputs": [
    {
     "name": "stdout",
     "output_type": "stream",
     "text": [
      "{'1702063': 'Ashwajit', '1702066': 'Jack', '1702067': 'Surya', '1702068': 'Oliver', '1702065': 'Arvind'}\n"
     ]
    }
   ],
   "source": [
    "del Dict[\"1702064\"]\n",
    "print(Dict)"
   ]
  },
  {
   "cell_type": "code",
   "execution_count": null,
   "id": "6038a4c5",
   "metadata": {},
   "outputs": [],
   "source": []
  }
 ],
 "metadata": {
  "kernelspec": {
   "display_name": "Python 3",
   "language": "python",
   "name": "python3"
  },
  "language_info": {
   "codemirror_mode": {
    "name": "ipython",
    "version": 3
   },
   "file_extension": ".py",
   "mimetype": "text/x-python",
   "name": "python",
   "nbconvert_exporter": "python",
   "pygments_lexer": "ipython3",
   "version": "3.8.8"
  }
 },
 "nbformat": 4,
 "nbformat_minor": 5
}
